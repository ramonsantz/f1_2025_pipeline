{
 "cells": [
  {
   "cell_type": "code",
   "execution_count": 11,
   "metadata": {},
   "outputs": [],
   "source": [
    "import pandas as pd\n",
    "\n",
    "df_race = pd.read_csv(\"../data/raw/race_results_2025.csv\")\n",
    "df_fastest = pd.read_csv('../data/raw/fastest_laps_2025.csv')\n"
   ]
  },
  {
   "cell_type": "code",
   "execution_count": 12,
   "metadata": {},
   "outputs": [
    {
     "name": "stdout",
     "output_type": "stream",
     "text": [
      "<class 'pandas.core.frame.DataFrame'>\n",
      "RangeIndex: 120 entries, 0 to 119\n",
      "Data columns (total 11 columns):\n",
      " #   Column            Non-Null Count  Dtype  \n",
      "---  ------            --------------  -----  \n",
      " 0   track             120 non-null    object \n",
      " 1   position          102 non-null    float64\n",
      " 2   no                120 non-null    int64  \n",
      " 3   driver            120 non-null    object \n",
      " 4   team              120 non-null    object \n",
      " 5   starting_grid     120 non-null    int64  \n",
      " 6   laps              120 non-null    int64  \n",
      " 7   time/retired      120 non-null    object \n",
      " 8   points            120 non-null    int64  \n",
      " 9   set_fastest_lap   120 non-null    object \n",
      " 10  fastest_lap_time  114 non-null    object \n",
      "dtypes: float64(1), int64(4), object(6)\n",
      "memory usage: 10.4+ KB\n"
     ]
    }
   ],
   "source": [
    "# (snack_case)\n",
    "df_race.columns = df_race.columns.str.strip().str.lower().str.replace(' ','_')\n",
    "df_fastest.columns = df_fastest.columns.str.strip().str.lower().str.replace(\" \", '_')\n",
    "\n",
    "# To numeric\n",
    "df_race['starting_grid'] = pd.to_numeric(df_race['starting_grid'], errors='coerce')\n",
    "# [positions] be float type for pilots who abandoned exist\n",
    "df_race['position'] = pd.to_numeric(df_race['position'], errors='coerce') \n",
    "\n",
    "df_race.info()"
   ]
  },
  {
   "cell_type": "code",
   "execution_count": 13,
   "metadata": {},
   "outputs": [
    {
     "data": {
      "text/html": [
       "<div>\n",
       "<style scoped>\n",
       "    .dataframe tbody tr th:only-of-type {\n",
       "        vertical-align: middle;\n",
       "    }\n",
       "\n",
       "    .dataframe tbody tr th {\n",
       "        vertical-align: top;\n",
       "    }\n",
       "\n",
       "    .dataframe thead th {\n",
       "        text-align: right;\n",
       "    }\n",
       "</style>\n",
       "<table border=\"1\" class=\"dataframe\">\n",
       "  <thead>\n",
       "    <tr style=\"text-align: right;\">\n",
       "      <th></th>\n",
       "      <th>track</th>\n",
       "      <th>position</th>\n",
       "      <th>no</th>\n",
       "      <th>driver</th>\n",
       "      <th>team</th>\n",
       "      <th>starting_grid</th>\n",
       "      <th>laps</th>\n",
       "      <th>time/retired</th>\n",
       "      <th>points</th>\n",
       "      <th>set_fastest_lap</th>\n",
       "      <th>fastest_lap_time</th>\n",
       "    </tr>\n",
       "  </thead>\n",
       "  <tbody>\n",
       "    <tr>\n",
       "      <th>115</th>\n",
       "      <td>Miami</td>\n",
       "      <td>16.0</td>\n",
       "      <td>18</td>\n",
       "      <td>Lance Stroll</td>\n",
       "      <td>Aston Martin Aramco Mercedes</td>\n",
       "      <td>18</td>\n",
       "      <td>56</td>\n",
       "      <td>+1 lap</td>\n",
       "      <td>0</td>\n",
       "      <td>No</td>\n",
       "      <td>1:31.769</td>\n",
       "    </tr>\n",
       "    <tr>\n",
       "      <th>116</th>\n",
       "      <td>Miami</td>\n",
       "      <td>NaN</td>\n",
       "      <td>30</td>\n",
       "      <td>Liam Lawson</td>\n",
       "      <td>Racing Bulls Honda RBPT</td>\n",
       "      <td>15</td>\n",
       "      <td>36</td>\n",
       "      <td>DNF</td>\n",
       "      <td>0</td>\n",
       "      <td>No</td>\n",
       "      <td>1:31.770</td>\n",
       "    </tr>\n",
       "    <tr>\n",
       "      <th>117</th>\n",
       "      <td>Miami</td>\n",
       "      <td>NaN</td>\n",
       "      <td>5</td>\n",
       "      <td>Gabriel Bortoleto</td>\n",
       "      <td>Kick Sauber Ferrari</td>\n",
       "      <td>13</td>\n",
       "      <td>30</td>\n",
       "      <td>DNF</td>\n",
       "      <td>0</td>\n",
       "      <td>No</td>\n",
       "      <td>1:32.328</td>\n",
       "    </tr>\n",
       "    <tr>\n",
       "      <th>118</th>\n",
       "      <td>Miami</td>\n",
       "      <td>NaN</td>\n",
       "      <td>87</td>\n",
       "      <td>Oliver Bearman</td>\n",
       "      <td>Haas Ferrari</td>\n",
       "      <td>19</td>\n",
       "      <td>27</td>\n",
       "      <td>DNF</td>\n",
       "      <td>0</td>\n",
       "      <td>No</td>\n",
       "      <td>1:32.680</td>\n",
       "    </tr>\n",
       "    <tr>\n",
       "      <th>119</th>\n",
       "      <td>Miami</td>\n",
       "      <td>NaN</td>\n",
       "      <td>7</td>\n",
       "      <td>Jack Doohan</td>\n",
       "      <td>Alpine Renault</td>\n",
       "      <td>14</td>\n",
       "      <td>0</td>\n",
       "      <td>DNF</td>\n",
       "      <td>0</td>\n",
       "      <td>No</td>\n",
       "      <td>NaN</td>\n",
       "    </tr>\n",
       "  </tbody>\n",
       "</table>\n",
       "</div>"
      ],
      "text/plain": [
       "     track  position  no             driver                          team  \\\n",
       "115  Miami      16.0  18       Lance Stroll  Aston Martin Aramco Mercedes   \n",
       "116  Miami       NaN  30        Liam Lawson       Racing Bulls Honda RBPT   \n",
       "117  Miami       NaN   5  Gabriel Bortoleto           Kick Sauber Ferrari   \n",
       "118  Miami       NaN  87     Oliver Bearman                  Haas Ferrari   \n",
       "119  Miami       NaN   7        Jack Doohan                Alpine Renault   \n",
       "\n",
       "     starting_grid  laps time/retired  points set_fastest_lap fastest_lap_time  \n",
       "115             18    56       +1 lap       0              No         1:31.769  \n",
       "116             15    36          DNF       0              No         1:31.770  \n",
       "117             13    30          DNF       0              No         1:32.328  \n",
       "118             19    27          DNF       0              No         1:32.680  \n",
       "119             14     0          DNF       0              No              NaN  "
      ]
     },
     "execution_count": 13,
     "metadata": {},
     "output_type": "execute_result"
    }
   ],
   "source": [
    "# Driver/track name cleanup\n",
    "df_race['driver'] = df_race['driver'].str.strip().str.title()\n",
    "df_race['track'] = df_race['track'].str.strip().str.title()\n",
    "\n",
    "df_fastest['driver'] = df_fastest['driver'].str.strip().str.title()\n",
    "df_fastest['grand_prix'] = df_fastest['grand_prix'].str.strip().str.title()\n",
    "\n",
    "df_race.tail()"
   ]
  },
  {
   "cell_type": "code",
   "execution_count": 14,
   "metadata": {},
   "outputs": [],
   "source": [
    "# Auxiliary columns - racing efficiency (gaining positions)\n",
    "df_race['position_gain'] = df_race['starting_grid'] - df_race['position']\n"
   ]
  },
  {
   "cell_type": "code",
   "execution_count": 15,
   "metadata": {},
   "outputs": [],
   "source": [
    "# Save the transformed data\n",
    "df_race.to_csv('../data/processed/race_results_2025_clean.csv', index=False)\n",
    "df_fastest.to_csv('../data/processed/fastest_laps_2025_clean.csv', index=False)"
   ]
  }
 ],
 "metadata": {
  "kernelspec": {
   "display_name": "venv",
   "language": "python",
   "name": "python3"
  },
  "language_info": {
   "codemirror_mode": {
    "name": "ipython",
    "version": 3
   },
   "file_extension": ".py",
   "mimetype": "text/x-python",
   "name": "python",
   "nbconvert_exporter": "python",
   "pygments_lexer": "ipython3",
   "version": "3.13.1"
  },
  "orig_nbformat": 4
 },
 "nbformat": 4,
 "nbformat_minor": 2
}
